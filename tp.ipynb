{
 "cells": [
  {
   "cell_type": "code",
   "execution_count": null,
   "metadata": {},
   "outputs": [],
   "source": [
    "import requests\n",
    "from lxml import etree\n",
    "file='C:\\\\Users\\\\Administrator.SD-201608211550\\\\Desktop\\\\tupian' \n",
    "a=requests.get('http://op.hanhande.com/shtml/meitu.shtml')\n",
    "tree=etree.HTML(a.text)\n",
    "c=tree.xpath('//*[@id=\"main\"]/div[1]/div[2]/ul/li')\n",
    "for i in c:\n",
    "    d=i.xpath('./a/@href')[0]\n",
    "    print(d)\n",
    "    e=requests.get(d).content\n",
    "    with open('C:\\\\Users\\\\Administrator.SD-201608211550\\\\Desktop\\\\tupian.ipg','wb')as f:\n",
    "        f.write(e)\n",
    "    "
   ]
  }
 ],
 "metadata": {
  "kernelspec": {
   "display_name": "Python 3",
   "language": "python",
   "name": "python3"
  },
  "language_info": {
   "codemirror_mode": {
    "name": "ipython",
    "version": 3
   },
   "file_extension": ".py",
   "mimetype": "text/x-python",
   "name": "python",
   "nbconvert_exporter": "python",
   "pygments_lexer": "ipython3",
   "version": "3.6.4"
  }
 },
 "nbformat": 4,
 "nbformat_minor": 2
}
