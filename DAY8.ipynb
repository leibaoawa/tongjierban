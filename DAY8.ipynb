{
 "cells": [
  {
   "cell_type": "code",
   "execution_count": 1,
   "metadata": {},
   "outputs": [
    {
     "name": "stdout",
     "output_type": "stream",
     "text": [
      "hello world\n"
     ]
    }
   ],
   "source": [
    "print('hello world')"
   ]
  },
  {
   "cell_type": "markdown",
   "metadata": {},
   "source": [
    "Markdown"
   ]
  },
  {
   "cell_type": "code",
   "execution_count": 9,
   "metadata": {},
   "outputs": [],
   "source": [
    " class Kaifang(object):\n",
    "    \"\"\"docstring for Kaifang\"\"\"\n",
    "\n",
    "    def __init__(self):\n",
    "        self.file_path = '/Users/huwang/Documents/Case/JokerCase_DATA/python/movies/day01/kaifangX.txt'\n",
    "        self.man = 0\n",
    "        self.woman = 0\n",
    "        self.lines_total = 0\n",
    "        self.lines = None\n",
    "\n",
    "    def total_line(self):\n",
    "        with open(self.file_path, 'r', encoding='gbk', errors='ignore') as f:\n",
    "            self.lines = f.readlines() # 返回的是一个列表\n",
    "            self.lines_total = len(self.lines) # 获得所有行数\n",
    "            print(self.lines_total)\n",
    "\n",
    "    def get_man_woman(self):\n",
    "        self.total_line()\n",
    "        for line in self.lines:\n",
    "            try:\n",
    "                gender = line.split(',')[2]\n",
    "                if gender == 'F':\n",
    "                    self.woman += 1\n",
    "                if gender == 'M':\n",
    "                    self.man += 1\n",
    "            except Exception as e:\n",
    "                print(e)\n",
    "                print('未获取到性别')\n",
    "                continue\n",
    "        print('woman:%d' % self.woman)\n",
    "        print('man:%d' % self.man)\n",
    "\n",
    "    def percent(self):\n",
    "        self.get_man_woman()\n",
    "        print('woman percent is:', (self.woman / self.lines_total) * 100, '%')\n",
    "        print('man percent is:', (self.man / self.lines_total) * 100, '%')\n",
    "\n",
    "\n"
   ]
  },
  {
   "cell_type": "code",
   "execution_count": null,
   "metadata": {},
   "outputs": [],
   "source": []
  },
  {
   "cell_type": "code",
   "execution_count": 10,
   "metadata": {},
   "outputs": [
    {
     "name": "stdout",
     "output_type": "stream",
     "text": [
      "('1', '1')\n",
      "('1', '2')\n",
      "('1', '3')\n",
      "('1', '4')\n",
      "('1', '5')\n",
      "('1', '6')\n",
      "('1', '0')\n",
      "('2', '1')\n",
      "('2', '2')\n",
      "('2', '3')\n",
      "('2', '4')\n",
      "('2', '5')\n",
      "('2', '6')\n",
      "('2', '0')\n",
      "('3', '1')\n",
      "('3', '2')\n",
      "('3', '3')\n",
      "('3', '4')\n",
      "('3', '5')\n",
      "('3', '6')\n",
      "('3', '0')\n",
      "('4', '1')\n",
      "('4', '2')\n",
      "('4', '3')\n",
      "('4', '4')\n",
      "('4', '5')\n",
      "('4', '6')\n",
      "('4', '0')\n",
      "('5', '1')\n",
      "('5', '2')\n",
      "('5', '3')\n",
      "('5', '4')\n",
      "('5', '5')\n",
      "('5', '6')\n",
      "('5', '0')\n",
      "('6', '1')\n",
      "('6', '2')\n",
      "('6', '3')\n",
      "('6', '4')\n",
      "('6', '5')\n",
      "('6', '6')\n",
      "('6', '0')\n",
      "('0', '1')\n",
      "('0', '2')\n",
      "('0', '3')\n",
      "('0', '4')\n",
      "('0', '5')\n",
      "('0', '6')\n",
      "('0', '0')\n"
     ]
    }
   ],
   "source": [
    "import itertools\n",
    "\n",
    "nana=(x for x in itertools.product('1234560',repeat=2))\n",
    "for i in nana:\n",
    "    print(i)"
   ]
  },
  {
   "cell_type": "code",
   "execution_count": null,
   "metadata": {},
   "outputs": [],
   "source": []
  }
 ],
 "metadata": {
  "kernelspec": {
   "display_name": "Python 3",
   "language": "python",
   "name": "python3"
  },
  "language_info": {
   "codemirror_mode": {
    "name": "ipython",
    "version": 3
   },
   "file_extension": ".py",
   "mimetype": "text/x-python",
   "name": "python",
   "nbconvert_exporter": "python",
   "pygments_lexer": "ipython3",
   "version": "3.6.4"
  }
 },
 "nbformat": 4,
 "nbformat_minor": 2
}
